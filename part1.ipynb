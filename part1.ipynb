{
  "nbformat": 4,
  "nbformat_minor": 0,
  "metadata": {
    "colab": {
      "name": "part1.ipynb",
      "provenance": [],
      "collapsed_sections": [],
      "authorship_tag": "ABX9TyNremcZPemhpNZSEFzE4UkG",
      "include_colab_link": true
    },
    "kernelspec": {
      "name": "python3",
      "display_name": "Python 3"
    },
    "language_info": {
      "name": "python"
    }
  },
  "cells": [
    {
      "cell_type": "markdown",
      "metadata": {
        "id": "view-in-github",
        "colab_type": "text"
      },
      "source": [
        "<a href=\"https://colab.research.google.com/github/ilia1221/test/blob/main/part1.ipynb\" target=\"_parent\"><img src=\"https://colab.research.google.com/assets/colab-badge.svg\" alt=\"Open In Colab\"/></a>"
      ]
    },
    {
      "cell_type": "code",
      "metadata": {
        "id": "0rrhEgvq774m"
      },
      "source": [
        "import re, requests\n",
        "import json\n",
        "import torch"
      ],
      "execution_count": null,
      "outputs": []
    },
    {
      "cell_type": "code",
      "metadata": {
        "id": "KEPto9Uv8Iuz"
      },
      "source": [
        "url = 'https://raw.githubusercontent.com/phygitalism/test-tasks-3dml/master/Task1/dev.json'\n",
        "resp = requests.get(url)\n",
        "data = json.loads(resp.text)"
      ],
      "execution_count": null,
      "outputs": []
    },
    {
      "cell_type": "code",
      "metadata": {
        "colab": {
          "base_uri": "https://localhost:8080/"
        },
        "id": "cfjPJxVKGWX0",
        "outputId": "7d75a177-8b04-44a2-d836-2816f6be0322"
      },
      "source": [
        "data[:2]"
      ],
      "execution_count": null,
      "outputs": [
        {
          "output_type": "execute_result",
          "data": {
            "text/plain": [
              "[{'dpdg1': 0.9571806007967657,\n",
              "  'dpdg2': 0.2429918798353707,\n",
              "  'id': 1,\n",
              "  'x1': 0.5784676164550582,\n",
              "  'x2': 0.25269502829221124},\n",
              " {'dpdg1': 1.5548069825999542,\n",
              "  'dpdg2': 0.3202737235651227,\n",
              "  'id': 2,\n",
              "  'x1': 0.18004037024122943,\n",
              "  'x2': 0.8573727538702526}]"
            ]
          },
          "metadata": {
            "tags": []
          },
          "execution_count": 46
        }
      ]
    },
    {
      "cell_type": "code",
      "metadata": {
        "id": "4giTdDLc83_p"
      },
      "source": [
        "result = []\n",
        "for point in data:\n",
        "    dpdg1 = point['dpdg1']\n",
        "    dpdg2 = point['dpdg2']\n",
        "\n",
        "    x1 = torch.tensor([point['x1']], dtype=torch.float64, requires_grad=True)\n",
        "    x2 = torch.tensor([point['x2']], dtype=torch.float64, requires_grad=True)\n",
        "\n",
        "    f1 = x1 + x2\n",
        "    f2 = x1 * x2\n",
        "    g1 = torch.tan(f1 + f2 + 100)\n",
        "    g2 = f1 * f2\n",
        "\n",
        "\n",
        "    g1.backward(retain_graph=True)\n",
        "\n",
        "    dg1_dx1 = x1.grad\n",
        "    dg1_dx2 = x2.grad\n",
        "\n",
        "    x1.grad.data.zero_()\n",
        "    x2.grad.data.zero_()\n",
        "\n",
        "    g2.backward(retain_graph=True)\n",
        "\n",
        "    dg2_dx1 = x1.grad\n",
        "    dg2_dx2 = x2.grad\n",
        "\n",
        "    dydx1 = dpdg1 * dg1_dx1 + dpdg2 * dg2_dx1\n",
        "    dydx2 = dpdg1 * dg1_dx2 + dpdg2 * dg2_dx2\n",
        "\n",
        "    result.append({\n",
        "         'id': point['id'],\n",
        "         'dydx1': dydx1.item(),\n",
        "         'dydx2': dydx2.item(),\n",
        "        })\n",
        "\n"
      ],
      "execution_count": null,
      "outputs": []
    },
    {
      "cell_type": "code",
      "metadata": {
        "id": "OUWZgsieGppA"
      },
      "source": [
        "import pandas as pd\n",
        "df = pd.DataFrame(result)\n",
        "df.to_csv('result.csv', index=False, header=False)"
      ],
      "execution_count": null,
      "outputs": []
    },
    {
      "cell_type": "code",
      "metadata": {
        "id": "tf8kPzqcdfau"
      },
      "source": [
        ""
      ],
      "execution_count": null,
      "outputs": []
    },
    {
      "cell_type": "code",
      "metadata": {
        "id": "2mC3V7MxdsPu"
      },
      "source": [
        ""
      ],
      "execution_count": null,
      "outputs": []
    }
  ]
}