{
  "nbformat": 4,
  "nbformat_minor": 0,
  "metadata": {
    "colab": {
      "name": "part2.ipynb",
      "provenance": [],
      "authorship_tag": "ABX9TyMKT134wzABo1fakOGyZoo6",
      "include_colab_link": true
    },
    "kernelspec": {
      "name": "python3",
      "display_name": "Python 3"
    },
    "language_info": {
      "name": "python"
    }
  },
  "cells": [
    {
      "cell_type": "markdown",
      "metadata": {
        "id": "view-in-github",
        "colab_type": "text"
      },
      "source": [
        "<a href=\"https://colab.research.google.com/github/ilia1221/test/blob/main/part2.ipynb\" target=\"_parent\"><img src=\"https://colab.research.google.com/assets/colab-badge.svg\" alt=\"Open In Colab\"/></a>"
      ]
    },
    {
      "cell_type": "code",
      "metadata": {
        "id": "NTpxknHCiXwo"
      },
      "source": [
        "import numpy as np\n",
        "from sympy import Matrix, symbols"
      ],
      "execution_count": null,
      "outputs": []
    },
    {
      "cell_type": "code",
      "metadata": {
        "id": "5h-rjUGJio0M"
      },
      "source": [
        "A = np.array(\n",
        "    [[1, 0, 0],\n",
        "    [1, 1, 0],\n",
        "    [0, -1, 1000]]\n",
        "    )\n",
        "m = Matrix(A)"
      ],
      "execution_count": null,
      "outputs": []
    },
    {
      "cell_type": "markdown",
      "metadata": {
        "id": "155QYqro4e1N"
      },
      "source": [
        "Найдем разложение матрицы А в виде A=P*J*P^(-1) (Жорданова нормальная форма)\n",
        "\n",
        "Тогда A^n = P*(J^n)*P^(-1)"
      ]
    },
    {
      "cell_type": "code",
      "metadata": {
        "id": "bQ93THZ3qKby"
      },
      "source": [
        "P, J = m.jordan_form()"
      ],
      "execution_count": null,
      "outputs": []
    },
    {
      "cell_type": "code",
      "metadata": {
        "colab": {
          "base_uri": "https://localhost:8080/",
          "height": 78
        },
        "id": "RBB934outv66",
        "outputId": "df04f238-b522-4e76-9d20-52503b0bd40a"
      },
      "source": [
        "P"
      ],
      "execution_count": null,
      "outputs": [
        {
          "output_type": "execute_result",
          "data": {
            "text/latex": "$\\displaystyle \\left[\\begin{matrix}0 & -999 & 0\\\\-999 & 1 & 0\\\\-1 & 0 & 1\\end{matrix}\\right]$",
            "text/plain": [
              "Matrix([\n",
              "[   0, -999, 0],\n",
              "[-999,    1, 0],\n",
              "[  -1,    0, 1]])"
            ]
          },
          "metadata": {
            "tags": []
          },
          "execution_count": 4
        }
      ]
    },
    {
      "cell_type": "code",
      "metadata": {
        "colab": {
          "base_uri": "https://localhost:8080/",
          "height": 78
        },
        "id": "wVzfWI-Ut1xD",
        "outputId": "6f9048b6-c4a7-4448-8b0c-dc6ee4a3557e"
      },
      "source": [
        "J"
      ],
      "execution_count": null,
      "outputs": [
        {
          "output_type": "execute_result",
          "data": {
            "text/latex": "$\\displaystyle \\left[\\begin{matrix}1 & 1 & 0\\\\0 & 1 & 0\\\\0 & 0 & 1000\\end{matrix}\\right]$",
            "text/plain": [
              "Matrix([\n",
              "[1, 1,    0],\n",
              "[0, 1,    0],\n",
              "[0, 0, 1000]])"
            ]
          },
          "metadata": {
            "tags": []
          },
          "execution_count": 5
        }
      ]
    },
    {
      "cell_type": "code",
      "metadata": {
        "colab": {
          "base_uri": "https://localhost:8080/",
          "height": 78
        },
        "id": "IIVnlvCet45p",
        "outputId": "70eda36b-797b-4a59-d687-72834f409880"
      },
      "source": [
        "P.inv()"
      ],
      "execution_count": null,
      "outputs": [
        {
          "output_type": "execute_result",
          "data": {
            "text/latex": "$\\displaystyle \\left[\\begin{matrix}- \\frac{1}{998001} & - \\frac{1}{999} & 0\\\\- \\frac{1}{999} & 0 & 0\\\\- \\frac{1}{998001} & - \\frac{1}{999} & 1\\end{matrix}\\right]$",
            "text/plain": [
              "Matrix([\n",
              "[-1/998001, -1/999, 0],\n",
              "[   -1/999,      0, 0],\n",
              "[-1/998001, -1/999, 1]])"
            ]
          },
          "metadata": {
            "tags": []
          },
          "execution_count": 6
        }
      ]
    },
    {
      "cell_type": "markdown",
      "metadata": {
        "id": "mdAdZrLo5P2x"
      },
      "source": [
        "Зададим J^n в общем виде:"
      ]
    },
    {
      "cell_type": "code",
      "metadata": {
        "id": "LwNxTctIBM-8"
      },
      "source": [
        "c0, c1 = symbols('c0:2')"
      ],
      "execution_count": null,
      "outputs": []
    },
    {
      "cell_type": "code",
      "metadata": {
        "id": "XS7DWNYcBNKK"
      },
      "source": [
        "j = Matrix([[1, c0, 0], [0, 1, 0], [0, 0, c1]])"
      ],
      "execution_count": null,
      "outputs": []
    },
    {
      "cell_type": "code",
      "metadata": {
        "colab": {
          "base_uri": "https://localhost:8080/",
          "height": 78
        },
        "id": "cJkDW-MPBY-j",
        "outputId": "49b9c690-4066-46d6-b052-67538c3eacaf"
      },
      "source": [
        "j"
      ],
      "execution_count": null,
      "outputs": [
        {
          "output_type": "execute_result",
          "data": {
            "text/latex": "$\\displaystyle \\left[\\begin{matrix}1 & c_{0} & 0\\\\0 & 1 & 0\\\\0 & 0 & c_{1}\\end{matrix}\\right]$",
            "text/plain": [
              "Matrix([\n",
              "[1, c0,  0],\n",
              "[0,  1,  0],\n",
              "[0,  0, c1]])"
            ]
          },
          "metadata": {
            "tags": []
          },
          "execution_count": 10
        }
      ]
    },
    {
      "cell_type": "markdown",
      "metadata": {
        "id": "-Fo7hQif5mMq"
      },
      "source": [
        "Тогда A^n будет равно:\n"
      ]
    },
    {
      "cell_type": "code",
      "metadata": {
        "colab": {
          "base_uri": "https://localhost:8080/",
          "height": 78
        },
        "id": "R7MiHwQbBNNz",
        "outputId": "c2597aa1-9a2a-4b42-c888-c8f2d0a81be0"
      },
      "source": [
        "P*j*P.inv()"
      ],
      "execution_count": null,
      "outputs": [
        {
          "output_type": "execute_result",
          "data": {
            "text/latex": "$\\displaystyle \\left[\\begin{matrix}1 & 0 & 0\\\\c_{0} & 1 & 0\\\\\\frac{c_{0}}{999} - \\frac{c_{1}}{998001} + \\frac{1}{998001} & \\frac{1}{999} - \\frac{c_{1}}{999} & c_{1}\\end{matrix}\\right]$",
            "text/plain": [
              "Matrix([\n",
              "[                            1,              0,  0],\n",
              "[                           c0,              1,  0],\n",
              "[c0/999 - c1/998001 + 1/998001, 1/999 - c1/999, c1]])"
            ]
          },
          "metadata": {
            "tags": []
          },
          "execution_count": 11
        }
      ]
    },
    {
      "cell_type": "markdown",
      "metadata": {
        "id": "3Icb-1GkwFel"
      },
      "source": [
        "где c1 = 1000^n\n",
        "\n",
        "c0 = n"
      ]
    },
    {
      "cell_type": "code",
      "metadata": {
        "id": "iBdRsaZx320q"
      },
      "source": [
        ""
      ],
      "execution_count": null,
      "outputs": []
    }
  ]
}